{
  "cells": [
    {
      "cell_type": "code",
      "execution_count": null,
      "id": "a07ef282",
      "metadata": {
        "id": "a07ef282"
      },
      "outputs": [],
      "source": [
        "import seaborn as sns\n",
        "import pandas as pd\n",
        "\n",
        "df1 = pd.read_csv(\"./submit/ensemble_103117.csv\") # catboost rf7 3:7\n",
        "df2 = pd.read_csv(\"./submit/lgbm.csv\")   \n",
        "df3 = pd.read_csv(\"./submit/randomforest.csv\")"
      ]
    },
    {
      "cell_type": "code",
      "execution_count": null,
      "id": "299801e2",
      "metadata": {
        "id": "299801e2"
      },
      "outputs": [],
      "source": [
        "df4 = pd.read_csv(\"./ensemble_4lgbm_grid6.csv\") #(catboost 3 + rf 7) * 4 + lgbm * 6\n",
        "df5 = pd.read_csv(\"./ensemble_rf3lgbm_grid7.csv\") #(cat 3 + rf 7) * 3 + lgbm * 7"
      ]
    },
    {
      "cell_type": "code",
      "execution_count": null,
      "id": "05afc064",
      "metadata": {
        "id": "05afc064"
      },
      "outputs": [],
      "source": [
        "sample_submission = df1.copy()\n",
        "sample_submission['target'] = 0"
      ]
    },
    {
      "cell_type": "code",
      "execution_count": null,
      "id": "1270d1c2-c78a-438b-9d11-5c12a9e307bc",
      "metadata": {
        "id": "1270d1c2-c78a-438b-9d11-5c12a9e307bc"
      },
      "outputs": [],
      "source": [
        "# pd.read_csv('./sample_submission.csv')\n",
        "sample_submission['target'] = (df4.target * 0.2) + (df5.target * 0.8) # (cat3 + rf7) * 3.2 + lgbm * 6.8"
      ]
    },
    {
      "cell_type": "code",
      "execution_count": null,
      "id": "b9736d18",
      "metadata": {
        "id": "b9736d18",
        "outputId": "063d192c-7a65-420c-b920-4c0f9d2c4c7e"
      },
      "outputs": [
        {
          "data": {
            "text/html": [
              "<div>\n",
              "<style scoped>\n",
              "    .dataframe tbody tr th:only-of-type {\n",
              "        vertical-align: middle;\n",
              "    }\n",
              "\n",
              "    .dataframe tbody tr th {\n",
              "        vertical-align: top;\n",
              "    }\n",
              "\n",
              "    .dataframe thead th {\n",
              "        text-align: right;\n",
              "    }\n",
              "</style>\n",
              "<table border=\"1\" class=\"dataframe\">\n",
              "  <thead>\n",
              "    <tr style=\"text-align: right;\">\n",
              "      <th></th>\n",
              "      <th>id</th>\n",
              "      <th>target</th>\n",
              "    </tr>\n",
              "  </thead>\n",
              "  <tbody>\n",
              "    <tr>\n",
              "      <th>0</th>\n",
              "      <td>TEST_000000</td>\n",
              "      <td>25.503031</td>\n",
              "    </tr>\n",
              "    <tr>\n",
              "      <th>1</th>\n",
              "      <td>TEST_000001</td>\n",
              "      <td>43.412419</td>\n",
              "    </tr>\n",
              "    <tr>\n",
              "      <th>2</th>\n",
              "      <td>TEST_000002</td>\n",
              "      <td>66.801612</td>\n",
              "    </tr>\n",
              "    <tr>\n",
              "      <th>3</th>\n",
              "      <td>TEST_000003</td>\n",
              "      <td>37.042345</td>\n",
              "    </tr>\n",
              "    <tr>\n",
              "      <th>4</th>\n",
              "      <td>TEST_000004</td>\n",
              "      <td>42.959138</td>\n",
              "    </tr>\n",
              "    <tr>\n",
              "      <th>...</th>\n",
              "      <td>...</td>\n",
              "      <td>...</td>\n",
              "    </tr>\n",
              "    <tr>\n",
              "      <th>291236</th>\n",
              "      <td>TEST_291236</td>\n",
              "      <td>47.028550</td>\n",
              "    </tr>\n",
              "    <tr>\n",
              "      <th>291237</th>\n",
              "      <td>TEST_291237</td>\n",
              "      <td>51.685096</td>\n",
              "    </tr>\n",
              "    <tr>\n",
              "      <th>291238</th>\n",
              "      <td>TEST_291238</td>\n",
              "      <td>22.315757</td>\n",
              "    </tr>\n",
              "    <tr>\n",
              "      <th>291239</th>\n",
              "      <td>TEST_291239</td>\n",
              "      <td>23.035672</td>\n",
              "    </tr>\n",
              "    <tr>\n",
              "      <th>291240</th>\n",
              "      <td>TEST_291240</td>\n",
              "      <td>47.132650</td>\n",
              "    </tr>\n",
              "  </tbody>\n",
              "</table>\n",
              "<p>291241 rows × 2 columns</p>\n",
              "</div>"
            ],
            "text/plain": [
              "                 id     target\n",
              "0       TEST_000000  25.503031\n",
              "1       TEST_000001  43.412419\n",
              "2       TEST_000002  66.801612\n",
              "3       TEST_000003  37.042345\n",
              "4       TEST_000004  42.959138\n",
              "...             ...        ...\n",
              "291236  TEST_291236  47.028550\n",
              "291237  TEST_291237  51.685096\n",
              "291238  TEST_291238  22.315757\n",
              "291239  TEST_291239  23.035672\n",
              "291240  TEST_291240  47.132650\n",
              "\n",
              "[291241 rows x 2 columns]"
            ]
          },
          "execution_count": 27,
          "metadata": {},
          "output_type": "execute_result"
        }
      ],
      "source": [
        "df4"
      ]
    },
    {
      "cell_type": "code",
      "execution_count": null,
      "id": "239f9de5-624b-4672-86ba-1f5e90ac78b5",
      "metadata": {
        "id": "239f9de5-624b-4672-86ba-1f5e90ac78b5",
        "outputId": "a7a772ca-ba0f-4657-fc98-dfffc68bd96f"
      },
      "outputs": [
        {
          "data": {
            "text/html": [
              "<div>\n",
              "<style scoped>\n",
              "    .dataframe tbody tr th:only-of-type {\n",
              "        vertical-align: middle;\n",
              "    }\n",
              "\n",
              "    .dataframe tbody tr th {\n",
              "        vertical-align: top;\n",
              "    }\n",
              "\n",
              "    .dataframe thead th {\n",
              "        text-align: right;\n",
              "    }\n",
              "</style>\n",
              "<table border=\"1\" class=\"dataframe\">\n",
              "  <thead>\n",
              "    <tr style=\"text-align: right;\">\n",
              "      <th></th>\n",
              "      <th>id</th>\n",
              "      <th>target</th>\n",
              "    </tr>\n",
              "  </thead>\n",
              "  <tbody>\n",
              "    <tr>\n",
              "      <th>0</th>\n",
              "      <td>TEST_000000</td>\n",
              "      <td>25.524226</td>\n",
              "    </tr>\n",
              "    <tr>\n",
              "      <th>1</th>\n",
              "      <td>TEST_000001</td>\n",
              "      <td>42.998070</td>\n",
              "    </tr>\n",
              "    <tr>\n",
              "      <th>2</th>\n",
              "      <td>TEST_000002</td>\n",
              "      <td>67.750071</td>\n",
              "    </tr>\n",
              "    <tr>\n",
              "      <th>3</th>\n",
              "      <td>TEST_000003</td>\n",
              "      <td>37.310960</td>\n",
              "    </tr>\n",
              "    <tr>\n",
              "      <th>4</th>\n",
              "      <td>TEST_000004</td>\n",
              "      <td>42.937651</td>\n",
              "    </tr>\n",
              "    <tr>\n",
              "      <th>...</th>\n",
              "      <td>...</td>\n",
              "      <td>...</td>\n",
              "    </tr>\n",
              "    <tr>\n",
              "      <th>291236</th>\n",
              "      <td>TEST_291236</td>\n",
              "      <td>46.719911</td>\n",
              "    </tr>\n",
              "    <tr>\n",
              "      <th>291237</th>\n",
              "      <td>TEST_291237</td>\n",
              "      <td>51.172328</td>\n",
              "    </tr>\n",
              "    <tr>\n",
              "      <th>291238</th>\n",
              "      <td>TEST_291238</td>\n",
              "      <td>21.914351</td>\n",
              "    </tr>\n",
              "    <tr>\n",
              "      <th>291239</th>\n",
              "      <td>TEST_291239</td>\n",
              "      <td>22.778023</td>\n",
              "    </tr>\n",
              "    <tr>\n",
              "      <th>291240</th>\n",
              "      <td>TEST_291240</td>\n",
              "      <td>47.940009</td>\n",
              "    </tr>\n",
              "  </tbody>\n",
              "</table>\n",
              "<p>291241 rows × 2 columns</p>\n",
              "</div>"
            ],
            "text/plain": [
              "                 id     target\n",
              "0       TEST_000000  25.524226\n",
              "1       TEST_000001  42.998070\n",
              "2       TEST_000002  67.750071\n",
              "3       TEST_000003  37.310960\n",
              "4       TEST_000004  42.937651\n",
              "...             ...        ...\n",
              "291236  TEST_291236  46.719911\n",
              "291237  TEST_291237  51.172328\n",
              "291238  TEST_291238  21.914351\n",
              "291239  TEST_291239  22.778023\n",
              "291240  TEST_291240  47.940009\n",
              "\n",
              "[291241 rows x 2 columns]"
            ]
          },
          "execution_count": 28,
          "metadata": {},
          "output_type": "execute_result"
        }
      ],
      "source": [
        "df5"
      ]
    },
    {
      "cell_type": "code",
      "execution_count": null,
      "id": "4fa9dc8b-7f77-43da-9f57-22f4561a800a",
      "metadata": {
        "id": "4fa9dc8b-7f77-43da-9f57-22f4561a800a",
        "outputId": "ced3ad03-2123-4a3a-986e-33ec430c8e66"
      },
      "outputs": [
        {
          "data": {
            "text/html": [
              "<div>\n",
              "<style scoped>\n",
              "    .dataframe tbody tr th:only-of-type {\n",
              "        vertical-align: middle;\n",
              "    }\n",
              "\n",
              "    .dataframe tbody tr th {\n",
              "        vertical-align: top;\n",
              "    }\n",
              "\n",
              "    .dataframe thead th {\n",
              "        text-align: right;\n",
              "    }\n",
              "</style>\n",
              "<table border=\"1\" class=\"dataframe\">\n",
              "  <thead>\n",
              "    <tr style=\"text-align: right;\">\n",
              "      <th></th>\n",
              "      <th>id</th>\n",
              "      <th>target</th>\n",
              "    </tr>\n",
              "  </thead>\n",
              "  <tbody>\n",
              "    <tr>\n",
              "      <th>0</th>\n",
              "      <td>TEST_000000</td>\n",
              "      <td>25.519987</td>\n",
              "    </tr>\n",
              "    <tr>\n",
              "      <th>1</th>\n",
              "      <td>TEST_000001</td>\n",
              "      <td>43.080940</td>\n",
              "    </tr>\n",
              "    <tr>\n",
              "      <th>2</th>\n",
              "      <td>TEST_000002</td>\n",
              "      <td>67.560379</td>\n",
              "    </tr>\n",
              "    <tr>\n",
              "      <th>3</th>\n",
              "      <td>TEST_000003</td>\n",
              "      <td>37.257237</td>\n",
              "    </tr>\n",
              "    <tr>\n",
              "      <th>4</th>\n",
              "      <td>TEST_000004</td>\n",
              "      <td>42.941948</td>\n",
              "    </tr>\n",
              "    <tr>\n",
              "      <th>...</th>\n",
              "      <td>...</td>\n",
              "      <td>...</td>\n",
              "    </tr>\n",
              "    <tr>\n",
              "      <th>291236</th>\n",
              "      <td>TEST_291236</td>\n",
              "      <td>46.781639</td>\n",
              "    </tr>\n",
              "    <tr>\n",
              "      <th>291237</th>\n",
              "      <td>TEST_291237</td>\n",
              "      <td>51.274881</td>\n",
              "    </tr>\n",
              "    <tr>\n",
              "      <th>291238</th>\n",
              "      <td>TEST_291238</td>\n",
              "      <td>21.994632</td>\n",
              "    </tr>\n",
              "    <tr>\n",
              "      <th>291239</th>\n",
              "      <td>TEST_291239</td>\n",
              "      <td>22.829553</td>\n",
              "    </tr>\n",
              "    <tr>\n",
              "      <th>291240</th>\n",
              "      <td>TEST_291240</td>\n",
              "      <td>47.778537</td>\n",
              "    </tr>\n",
              "  </tbody>\n",
              "</table>\n",
              "<p>291241 rows × 2 columns</p>\n",
              "</div>"
            ],
            "text/plain": [
              "                 id     target\n",
              "0       TEST_000000  25.519987\n",
              "1       TEST_000001  43.080940\n",
              "2       TEST_000002  67.560379\n",
              "3       TEST_000003  37.257237\n",
              "4       TEST_000004  42.941948\n",
              "...             ...        ...\n",
              "291236  TEST_291236  46.781639\n",
              "291237  TEST_291237  51.274881\n",
              "291238  TEST_291238  21.994632\n",
              "291239  TEST_291239  22.829553\n",
              "291240  TEST_291240  47.778537\n",
              "\n",
              "[291241 rows x 2 columns]"
            ]
          },
          "execution_count": 29,
          "metadata": {},
          "output_type": "execute_result"
        }
      ],
      "source": [
        "sample_submission"
      ]
    },
    {
      "cell_type": "code",
      "execution_count": null,
      "id": "5da4a5ea-4ead-4431-8b37-7968169b8d76",
      "metadata": {
        "id": "5da4a5ea-4ead-4431-8b37-7968169b8d76",
        "outputId": "ce4a0685-9da0-49e9-8622-8fb267eb86d3"
      },
      "outputs": [
        {
          "name": "stderr",
          "output_type": "stream",
          "text": [
            "C:\\Users\\권은채\\AppData\\Local\\Temp\\ipykernel_2928\\841309740.py:1: UserWarning: \n",
            "\n",
            "`distplot` is a deprecated function and will be removed in seaborn v0.14.0.\n",
            "\n",
            "Please adapt your code to use either `displot` (a figure-level function with\n",
            "similar flexibility) or `histplot` (an axes-level function for histograms).\n",
            "\n",
            "For a guide to updating your code to use the new functions, please see\n",
            "https://gist.github.com/mwaskom/de44147ed2974457ad6372750bbe5751\n",
            "\n",
            "  sns.distplot(sample_submission.target)\n"
          ]
        },
        {
          "data": {
            "text/plain": [
              "<AxesSubplot: xlabel='target', ylabel='Density'>"
            ]
          },
          "execution_count": 30,
          "metadata": {},
          "output_type": "execute_result"
        },
        {
          "data": {
            "image/png": "[encoded data removed]",
            "text/plain": [
              "<Figure size 640x480 with 1 Axes>"
            ]
          },
          "metadata": {},
          "output_type": "display_data"
        }
      ],
      "source": [
        "sns.distplot(sample_submission.target) "
      ]
    },
    {
      "cell_type": "code",
      "execution_count": null,
      "id": "d79cca25-99dc-48de-a07a-f7efbaa15550",
      "metadata": {
        "id": "d79cca25-99dc-48de-a07a-f7efbaa15550"
      },
      "outputs": [],
      "source": [
        "sample_submission.to_csv(\"./en7.csv\", index = False)"
      ]
    }
  ],
  "metadata": {
    "kernelspec": {
      "display_name": "Python 3.10.8 64-bit (microsoft store)",
      "language": "python",
      "name": "python3"
    },
    "language_info": {
      "codemirror_mode": {
        "name": "ipython",
        "version": 3
      },
      "file_extension": ".py",
      "mimetype": "text/x-python",
      "name": "python",
      "nbconvert_exporter": "python",
      "pygments_lexer": "ipython3",
      "version": "3.10.10"
    },
    "vscode": {
      "interpreter": {
        "hash": "25ff2d738d3957064ea91cd0e6c93db6032917ef47308ad7e0350e1d8f9ec926"
      }
    },
    "colab": {
      "provenance": []
    }
  },
  "nbformat": 4,
  "nbformat_minor": 5
}